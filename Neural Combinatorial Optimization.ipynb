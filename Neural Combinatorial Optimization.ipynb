{
  "nbformat": 4,
  "nbformat_minor": 0,
  "metadata": {
    "colab": {
      "name": "old_tsp.ipynb",
      "provenance": [],
      "collapsed_sections": []
    },
    "kernelspec": {
      "name": "python3",
      "display_name": "Python 3"
    },
    "language_info": {
      "name": "python"
    },
    "accelerator": "GPU",
    "gpuClass": "standard"
  },
  "cells": [
    {
      "cell_type": "code",
      "execution_count": 1,
      "metadata": {
        "id": "s6jD29P144xU"
      },
      "outputs": [],
      "source": [
        "import math\n",
        "import numpy as np\n",
        "\n",
        "import torch\n",
        "import torch.nn as nn\n",
        "import torch.optim as optim\n",
        "import torch.autograd as autograd\n",
        "import torch.nn.functional as F\n",
        "from torch.autograd import Variable\n",
        "from torch.utils.data import Dataset, DataLoader\n",
        "\n",
        "USE_CUDA = True"
      ]
    },
    {
      "cell_type": "code",
      "source": [
        "from IPython.display import clear_output\n",
        "from tqdm import tqdm\n",
        "import matplotlib.pyplot as plt\n",
        "%matplotlib inline"
      ],
      "metadata": {
        "id": "QaKzvx3H5BO-"
      },
      "execution_count": 2,
      "outputs": []
    },
    {
      "cell_type": "code",
      "source": [
        "class TSPDataset(Dataset):\n",
        "    \n",
        "    def __init__(self, num_nodes, num_samples, random_seed=111):\n",
        "        super(TSPDataset, self).__init__()\n",
        "        torch.manual_seed(random_seed)\n",
        "\n",
        "        self.data_set = []\n",
        "        for l in tqdm(range(num_samples)):\n",
        "            x = torch.FloatTensor(2, num_nodes).uniform_(0, 1)\n",
        "            self.data_set.append(x)\n",
        "\n",
        "        self.size = len(self.data_set)\n",
        "\n",
        "    def __len__(self):\n",
        "        return self.size\n",
        "\n",
        "    def __getitem__(self, idx):\n",
        "        return self.data_set[idx]"
      ],
      "metadata": {
        "id": "mtlSGzpE5C32"
      },
      "execution_count": 227,
      "outputs": []
    },
    {
      "cell_type": "code",
      "source": [
        "train_size = 1000000\n",
        "val_size = 10000"
      ],
      "metadata": {
        "id": "3xnAVXR55E4l"
      },
      "execution_count": 228,
      "outputs": []
    },
    {
      "cell_type": "code",
      "source": [
        "train_20_dataset = TSPDataset(20, train_size)\n",
        "val_20_dataset   = TSPDataset(20, val_size)\n",
        "\n",
        "train_50_dataset = TSPDataset(50, train_size)\n",
        "val_50_dataset   = TSPDataset(50, val_size)"
      ],
      "metadata": {
        "colab": {
          "base_uri": "https://localhost:8080/"
        },
        "id": "XxKNUluS5JR9",
        "outputId": "46c8d9b9-1787-46c2-970b-a5581ce6b288"
      },
      "execution_count": 229,
      "outputs": [
        {
          "output_type": "stream",
          "name": "stderr",
          "text": [
            "100%|██████████| 1000000/1000000 [00:05<00:00, 186103.64it/s]\n",
            "100%|██████████| 10000/10000 [00:00<00:00, 177786.52it/s]\n",
            "100%|██████████| 1000000/1000000 [00:05<00:00, 168619.17it/s]\n",
            "100%|██████████| 10000/10000 [00:00<00:00, 196033.07it/s]\n"
          ]
        }
      ]
    },
    {
      "cell_type": "code",
      "source": [
        "def angle_between(v1, v2):\n",
        "    \"\"\" Returns the angle in radians between vectors 'v1' and 'v2'::\n",
        "\n",
        "            >>> angle_between((1, 0, 0), (0, 1, 0))\n",
        "            1.5707963267948966\n",
        "            >>> angle_between((1, 0, 0), (1, 0, 0))\n",
        "            0.0\n",
        "            >>> angle_between((1, 0, 0), (-1, 0, 0))\n",
        "            3.141592653589793\n",
        "    \"\"\"\n",
        "    norm1 = torch.norm(v1, dim = 1).reshape((v1.shape[0], 1))\n",
        "    norm2 = torch.norm(v2, dim = 1).reshape((v2.shape[0], 1))\n",
        "    v1_u = torch.div(v1, norm1)\n",
        "    v2_u = torch.div(v2,norm2)\n",
        "    A = torch.mul(v1_u,v2_u).sum(dim = -1)\n",
        "    A = torch.clip(A, -1.0, 1.0)\n",
        "    A = torch.arccos(A)\n",
        "    return A"
      ],
      "metadata": {
        "id": "BdUuxMlNxcbq"
      },
      "execution_count": 230,
      "outputs": []
    },
    {
      "cell_type": "code",
      "source": [
        "def time_lost(one, two, rad = 1):\n",
        "    next = two - one\n",
        "    angle = angle_between(one, next)\n",
        "    return angle/rad"
      ],
      "metadata": {
        "id": "Ih3iwQxFxvkc"
      },
      "execution_count": 231,
      "outputs": []
    },
    {
      "cell_type": "code",
      "source": [
        "def reward(sample_solution, USE_CUDA=False):\n",
        "    \"\"\"\n",
        "    Args:\n",
        "        sample_solution seq_len of [batch_size]\n",
        "    \"\"\"\n",
        "    batch_size = sample_solution[0].size(0)\n",
        "    n = len(sample_solution)\n",
        "    tour_len = Variable(torch.zeros([batch_size]))\n",
        "    \n",
        "    if USE_CUDA:\n",
        "        tour_len = tour_len.cuda()\n",
        "\n",
        "    for i in range(n - 1):\n",
        "        A = torch.norm(sample_solution[i] - sample_solution[i + 1], dim=1)\n",
        "        B = time_lost(sample_solution[i], sample_solution[i + 1])\n",
        "        tour_len += A + B\n",
        "    \n",
        "    tour_len += torch.norm(sample_solution[n - 1] - sample_solution[0], dim=1)\n",
        "\n",
        "    return tour_len"
      ],
      "metadata": {
        "id": "u0JKkrqN5K4w"
      },
      "execution_count": 232,
      "outputs": []
    },
    {
      "cell_type": "code",
      "source": [
        "class Attention(nn.Module):\n",
        "    def __init__(self, hidden_size, use_tanh=False, C=10, name='Bahdanau', use_cuda=USE_CUDA):\n",
        "        super(Attention, self).__init__()\n",
        "        \n",
        "        self.use_tanh = use_tanh\n",
        "        self.C = C\n",
        "        self.name = name\n",
        "        \n",
        "        if name == 'Bahdanau':\n",
        "            self.W_query = nn.Linear(hidden_size, hidden_size)\n",
        "            self.W_ref   = nn.Conv1d(hidden_size, hidden_size, 1, 1)\n",
        "\n",
        "            V = torch.FloatTensor(hidden_size)\n",
        "            if use_cuda:\n",
        "                V = V.cuda()  \n",
        "            self.V = nn.Parameter(V)\n",
        "            self.V.data.uniform_(-(1. / math.sqrt(hidden_size)) , 1. / math.sqrt(hidden_size))\n",
        "            \n",
        "        \n",
        "    def forward(self, query, ref):\n",
        "        \"\"\"\n",
        "        Args: \n",
        "            query: [batch_size x hidden_size]\n",
        "            ref:   ]batch_size x seq_len x hidden_size]\n",
        "        \"\"\"\n",
        "        \n",
        "        batch_size = ref.size(0)\n",
        "        seq_len    = ref.size(1)\n",
        "        \n",
        "        if self.name == 'Bahdanau':\n",
        "            ref = ref.permute(0, 2, 1)\n",
        "            query = self.W_query(query).unsqueeze(2)  # [batch_size x hidden_size x 1]\n",
        "            ref   = self.W_ref(ref)  # [batch_size x hidden_size x seq_len] \n",
        "            expanded_query = query.repeat(1, 1, seq_len) # [batch_size x hidden_size x seq_len]\n",
        "            V = self.V.unsqueeze(0).unsqueeze(0).repeat(batch_size, 1, 1) # [batch_size x 1 x hidden_size]\n",
        "            logits = torch.bmm(V, F.tanh(expanded_query + ref)).squeeze(1)\n",
        "            \n",
        "        elif self.name == 'Dot':\n",
        "            query  = query.unsqueeze(2)\n",
        "            logits = torch.bmm(ref, query).squeeze(2) #[batch_size x seq_len x 1]\n",
        "            ref = ref.permute(0, 2, 1)\n",
        "        \n",
        "        else:\n",
        "            raise NotImplementedError\n",
        "        \n",
        "        if self.use_tanh:\n",
        "            logits = self.C * F.tanh(logits)\n",
        "        else:\n",
        "            logits = logits  \n",
        "        return ref, logits"
      ],
      "metadata": {
        "id": "p52nhH8t5NUn"
      },
      "execution_count": 233,
      "outputs": []
    },
    {
      "cell_type": "code",
      "source": [
        "class GraphEmbedding(nn.Module):\n",
        "    def __init__(self, input_size, embedding_size, use_cuda=USE_CUDA):\n",
        "        super(GraphEmbedding, self).__init__()\n",
        "        self.embedding_size = embedding_size\n",
        "        self.use_cuda = use_cuda\n",
        "        \n",
        "        self.embedding = nn.Parameter(torch.FloatTensor(input_size, embedding_size)) \n",
        "        self.embedding.data.uniform_(-(1. / math.sqrt(embedding_size)), 1. / math.sqrt(embedding_size))\n",
        "        \n",
        "    def forward(self, inputs):\n",
        "        batch_size = inputs.size(0)\n",
        "        seq_len    = inputs.size(2)\n",
        "        embedding = self.embedding.repeat(batch_size, 1, 1)  \n",
        "        embedded = []\n",
        "        inputs = inputs.unsqueeze(1)\n",
        "        for i in range(seq_len):\n",
        "            embedded.append(torch.bmm(inputs[:, :, :, i].float(), embedding))\n",
        "        embedded = torch.cat(embedded, 1)\n",
        "        return embedded"
      ],
      "metadata": {
        "id": "k3iTiePG5PtG"
      },
      "execution_count": 234,
      "outputs": []
    },
    {
      "cell_type": "code",
      "source": [
        "class PointerNet(nn.Module):\n",
        "    def __init__(self, \n",
        "            embedding_size,\n",
        "            hidden_size,\n",
        "            seq_len,\n",
        "            n_glimpses,\n",
        "            tanh_exploration,\n",
        "            use_tanh,\n",
        "            attention,\n",
        "            use_cuda=USE_CUDA):\n",
        "        super(PointerNet, self).__init__()\n",
        "        \n",
        "        self.embedding_size = embedding_size\n",
        "        self.hidden_size    = hidden_size\n",
        "        self.n_glimpses     = n_glimpses\n",
        "        self.seq_len        = seq_len\n",
        "        self.use_cuda       = use_cuda\n",
        "        \n",
        "        \n",
        "        self.embedding = GraphEmbedding(2, embedding_size, use_cuda=use_cuda)\n",
        "        self.encoder = nn.LSTM(embedding_size, hidden_size, batch_first=True)\n",
        "        self.decoder = nn.LSTM(embedding_size, hidden_size, batch_first=True)\n",
        "        self.pointer = Attention(hidden_size, use_tanh=use_tanh, C=tanh_exploration, name=attention, use_cuda=use_cuda)\n",
        "        self.glimpse = Attention(hidden_size, use_tanh=False, name=attention, use_cuda=use_cuda)\n",
        "        \n",
        "        self.decoder_start_input = nn.Parameter(torch.FloatTensor(embedding_size))\n",
        "        self.decoder_start_input.data.uniform_(-(1. / math.sqrt(embedding_size)), 1. / math.sqrt(embedding_size))\n",
        "        \n",
        "    def apply_mask_to_logits(self, logits, mask, idxs): \n",
        "        batch_size = logits.size(0)\n",
        "        clone_mask = mask.clone()\n",
        "\n",
        "        if idxs is not None:\n",
        "            clone_mask[[i for i in range(batch_size)], idxs.data] = 1\n",
        "            logits[clone_mask] = -np.inf\n",
        "        return logits, clone_mask\n",
        "            \n",
        "    def forward(self, inputs):\n",
        "        \"\"\"\n",
        "        Args: \n",
        "            inputs: [batch_size x 1 x sourceL]\n",
        "        \"\"\"\n",
        "        batch_size = inputs.size(0)\n",
        "        seq_len    = inputs.size(2)\n",
        "        assert seq_len == self.seq_len\n",
        "        \n",
        "        embedded = self.embedding(inputs)\n",
        "        encoder_outputs, (hidden, context) = self.encoder(embedded)\n",
        "        \n",
        "        \n",
        "        prev_probs = []\n",
        "        prev_idxs = []\n",
        "        mask = torch.zeros(batch_size, seq_len).byte()\n",
        "        if self.use_cuda:\n",
        "            mask = mask.cuda()\n",
        "            \n",
        "        idxs = None\n",
        "       \n",
        "        decoder_input = self.decoder_start_input.unsqueeze(0).repeat(batch_size, 1)\n",
        "        \n",
        "        for i in range(seq_len):\n",
        "            \n",
        "            \n",
        "            _, (hidden, context) = self.decoder(decoder_input.unsqueeze(1), (hidden, context))\n",
        "            \n",
        "            query = hidden.squeeze(0)\n",
        "            for i in range(self.n_glimpses):\n",
        "                ref, logits = self.glimpse(query, encoder_outputs)\n",
        "                logits, mask = self.apply_mask_to_logits(logits, mask, idxs)\n",
        "                query = torch.bmm(ref, F.softmax(logits).unsqueeze(2)).squeeze(2) \n",
        "                \n",
        "                \n",
        "            _, logits = self.pointer(query, encoder_outputs)\n",
        "            logits, mask = self.apply_mask_to_logits(logits, mask, idxs)\n",
        "            probs = F.softmax(logits)\n",
        "            \n",
        "            \n",
        "            idxs = probs.multinomial(num_samples=1).squeeze(1)\n",
        "            for old_idxs in prev_idxs:\n",
        "                if old_idxs.eq(idxs).data.any():\n",
        "                    print( seq_len)\n",
        "                    print(' RESAMPLE!')\n",
        "                    idxs = probs.multinomial(num_samples=1).squeeze(1)\n",
        "                    break\n",
        "            decoder_input = embedded[[i for i in range(batch_size)], idxs.data, :] \n",
        "            prev_probs.append(probs)\n",
        "            prev_idxs.append(idxs)\n",
        "#        print('prev_idxs size = ', prev_idxs[0])\n",
        "\n",
        "        return prev_probs, prev_idxs"
      ],
      "metadata": {
        "id": "e5NciiqU5RdH"
      },
      "execution_count": 235,
      "outputs": []
    },
    {
      "cell_type": "code",
      "source": [
        "class CombinatorialRL(nn.Module):\n",
        "    def __init__(self, \n",
        "            embedding_size,\n",
        "            hidden_size,\n",
        "            seq_len,\n",
        "            n_glimpses,\n",
        "            tanh_exploration,\n",
        "            use_tanh,\n",
        "            reward,\n",
        "            attention,\n",
        "            use_cuda=USE_CUDA):\n",
        "        super(CombinatorialRL, self).__init__()\n",
        "        self.reward = reward\n",
        "        self.use_cuda = use_cuda\n",
        "        \n",
        "        self.actor = PointerNet(\n",
        "                embedding_size,\n",
        "                hidden_size,\n",
        "                seq_len,\n",
        "                n_glimpses,\n",
        "                tanh_exploration,\n",
        "                use_tanh,\n",
        "                attention,\n",
        "                use_cuda)\n",
        "        \n",
        "#        self.critic = \n",
        "\n",
        "\n",
        "    def forward(self, inputs):\n",
        "        \"\"\"\n",
        "        Args:\n",
        "            inputs: [batch_size, input_size, seq_len]\n",
        "        \"\"\"\n",
        "        batch_size = inputs.size(0)\n",
        "        input_size = inputs.size(1)\n",
        "        seq_len    = inputs.size(2)\n",
        "        \n",
        "        probs, action_idxs = self.actor(inputs)\n",
        "       \n",
        "        actions = []\n",
        "        inputs = inputs.transpose(1, 2)\n",
        "        for action_id in action_idxs:\n",
        "            actions.append(inputs[[x for x in range(batch_size)], action_id.data, :])\n",
        "\n",
        "#        print('actions size = ', actions[0])\n",
        "        action_probs = []\n",
        "        for prob, action_id in zip(probs, action_idxs):\n",
        "            action_probs.append(prob[[x for x in range(batch_size)], action_id.data])\n",
        "\n",
        "        R = self.reward(actions, self.use_cuda)\n",
        "        \n",
        "        return R, action_probs, actions, action_idxs"
      ],
      "metadata": {
        "id": "wET0BWTJ5T7A"
      },
      "execution_count": 236,
      "outputs": []
    },
    {
      "cell_type": "code",
      "source": [
        "embedding_size = 128\n",
        "hidden_size    = 128\n",
        "n_glimpses = 1\n",
        "tanh_exploration = 10\n",
        "use_tanh = True\n",
        "\n",
        "beta = 0.9\n",
        "max_grad_norm = 2."
      ],
      "metadata": {
        "id": "XvhTbA-35WDY"
      },
      "execution_count": 237,
      "outputs": []
    },
    {
      "cell_type": "code",
      "source": [
        "tsp_20_model = CombinatorialRL(\n",
        "        embedding_size,\n",
        "        hidden_size,\n",
        "        20,\n",
        "        n_glimpses, \n",
        "        tanh_exploration,\n",
        "        use_tanh,\n",
        "        reward,\n",
        "        attention=\"Dot\",\n",
        "        use_cuda=USE_CUDA)\n",
        "\n",
        "tsp_50_model = CombinatorialRL(\n",
        "        embedding_size,\n",
        "        hidden_size,\n",
        "        50,\n",
        "        n_glimpses, \n",
        "        tanh_exploration,\n",
        "        use_tanh,\n",
        "        reward,\n",
        "        attention=\"Bahdanau\",\n",
        "        use_cuda=USE_CUDA)"
      ],
      "metadata": {
        "id": "O3A_ouId5XmQ"
      },
      "execution_count": 238,
      "outputs": []
    },
    {
      "cell_type": "code",
      "source": [
        "if USE_CUDA:\n",
        "    tsp_20_model = tsp_20_model.cuda()\n",
        "    tsp_50_model = tsp_50_model.cuda()"
      ],
      "metadata": {
        "id": "pw8xn9pG5Zr5"
      },
      "execution_count": 239,
      "outputs": []
    },
    {
      "cell_type": "code",
      "source": [
        "class TrainModel:\n",
        "    def __init__(self, model, train_dataset, val_dataset, batch_size=128, threshold=None, max_grad_norm=2.):\n",
        "        self.model = model\n",
        "        self.train_dataset = train_dataset\n",
        "        self.val_dataset   = val_dataset\n",
        "        self.batch_size = batch_size\n",
        "        self.threshold = threshold\n",
        "        \n",
        "        self.train_loader = DataLoader(train_dataset, batch_size=batch_size, shuffle=True, num_workers=1)\n",
        "        self.val_loader   = DataLoader(val_dataset, batch_size=batch_size, shuffle=True, num_workers=1)\n",
        "\n",
        "        self.actor_optim   = optim.Adam(model.actor.parameters(), lr=1e-4)\n",
        "        self.max_grad_norm = max_grad_norm\n",
        "        \n",
        "        self.train_tour = []\n",
        "        self.val_tour   = []\n",
        "        \n",
        "        self.epochs = 0\n",
        "    \n",
        "    def train_and_validate(self, n_epochs):\n",
        "        critic_exp_mvg_avg = torch.zeros(1)\n",
        "        if USE_CUDA: \n",
        "            critic_exp_mvg_avg = critic_exp_mvg_avg.cuda()\n",
        "\n",
        "        for epoch in range(n_epochs):\n",
        "            for batch_id, sample_batch in enumerate(self.train_loader):\n",
        "                self.model.train()\n",
        "\n",
        "                inputs = Variable(sample_batch)\n",
        "                inputs = inputs.cuda()\n",
        "\n",
        "                R, probs, actions, actions_idxs = self.model(inputs)\n",
        "\n",
        "                if batch_id == 0:\n",
        "                    critic_exp_mvg_avg = R.mean()\n",
        "                else:\n",
        "                    critic_exp_mvg_avg = (critic_exp_mvg_avg * beta) + ((1. - beta) * R.mean())\n",
        "\n",
        "\n",
        "                advantage = R - critic_exp_mvg_avg\n",
        "\n",
        "                logprobs = 0\n",
        "                for prob in probs: \n",
        "                    logprob = torch.log(prob)\n",
        "                    logprobs += logprob\n",
        "                logprobs[logprobs < -1000] = 0.  \n",
        "\n",
        "                reinforce = advantage * logprobs\n",
        "                actor_loss = reinforce.mean()\n",
        "\n",
        "                self.actor_optim.zero_grad()\n",
        "                actor_loss.backward()\n",
        "                torch.nn.utils.clip_grad_norm(self.model.actor.parameters(),\n",
        "                                    float(self.max_grad_norm), norm_type=2)\n",
        "\n",
        "                self.actor_optim.step()\n",
        "\n",
        "                critic_exp_mvg_avg = critic_exp_mvg_avg.detach()\n",
        "\n",
        "                self.train_tour.append(R.mean().item())\n",
        "\n",
        "                if batch_id % 10 == 0:\n",
        "                    self.plot(self.epochs)\n",
        "\n",
        "                if batch_id % 100 == 0:    \n",
        "\n",
        "                    self.model.eval()\n",
        "                    for val_batch in self.val_loader:\n",
        "                        inputs = Variable(val_batch)\n",
        "                        inputs = inputs.cuda()\n",
        "\n",
        "                        R, probs, actions, actions_idxs = self.model(inputs)\n",
        "                        self.val_tour.append(R.mean().item())\n",
        "\n",
        "            if self.threshold and self.train_tour[-1] < self.threshold:\n",
        "                print (\"EARLY STOPPAGE!\")\n",
        "                break\n",
        "                \n",
        "            self.epochs += 1\n",
        "                \n",
        "    def plot(self, epoch):\n",
        "        clear_output(True)\n",
        "        plt.figure(figsize=(20,5))\n",
        "        plt.subplot(131)\n",
        "        plt.title('train tour length: epoch %s reward %s' % (epoch, self.train_tour[-1] if len(self.train_tour) else 'collecting'))\n",
        "        plt.plot(self.train_tour)\n",
        "        plt.grid()\n",
        "        plt.subplot(132)\n",
        "        plt.title('val tour length: epoch %s reward %s' % (epoch, self.val_tour[-1] if len(self.val_tour) else 'collecting'))\n",
        "        plt.plot(self.val_tour)\n",
        "        plt.grid()\n",
        "        plt.show()"
      ],
      "metadata": {
        "id": "mXLoHDIK5b45"
      },
      "execution_count": 240,
      "outputs": []
    },
    {
      "cell_type": "code",
      "source": [
        "tsp_20_train = TrainModel(tsp_20_model, \n",
        "                        train_20_dataset, \n",
        "                        val_20_dataset, \n",
        "                        threshold=3.99)"
      ],
      "metadata": {
        "id": "KeeRtOE-5d9p"
      },
      "execution_count": 241,
      "outputs": []
    },
    {
      "cell_type": "code",
      "source": [
        "tsp_20_train.train_and_validate(5)"
      ],
      "metadata": {
        "colab": {
          "base_uri": "https://localhost:8080/",
          "height": 336
        },
        "id": "0gpPHa0z5gRi",
        "outputId": "af24b8cd-fd00-4f73-e504-55abd869deea"
      },
      "execution_count": 242,
      "outputs": [
        {
          "output_type": "display_data",
          "data": {
            "text/plain": [
              "<Figure size 1440x360 with 2 Axes>"
            ],
            "image/png": "[encoded data removed]"
          },
          "metadata": {
            "needs_background": "light"
          }
        }
      ]
    },
    {
      "cell_type": "code",
      "source": [
        ""
      ],
      "metadata": {
        "id": "6XaTi_PA5hs7"
      },
      "execution_count": null,
      "outputs": []
    }
  ]
}
